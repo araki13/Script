{
 "cells": [
  {
   "cell_type": "code",
   "execution_count": null,
   "metadata": {
    "colab": {},
    "colab_type": "code",
    "id": "x43nIGiJohtS"
   },
   "outputs": [],
   "source": [
    "%matplotlib inline\n",
    "\n",
    "import numpy as np\n",
    "import pandas as pd\n",
    "from sklearn.metrics import confusion_matrix\n",
    "import torch\n",
    "import torchvision\n",
    "from torch import nn\n",
    "from torch import optim\n",
    "from torchvision import datasets\n",
    "import torchvision.transforms as transforms\n",
    "from torch.utils.data import DataLoader, TensorDataset\n",
    "import matplotlib.pyplot as plt"
   ]
  },
  {
   "cell_type": "markdown",
   "metadata": {
    "colab_type": "text",
    "id": "Uzs7W16joiwK"
   },
   "source": [
    "## GPUを使える場合はGPUを使うための準備"
   ]
  },
  {
   "cell_type": "code",
   "execution_count": null,
   "metadata": {
    "colab": {
     "base_uri": "https://localhost:8080/",
     "height": 34
    },
    "colab_type": "code",
    "executionInfo": {
     "elapsed": 1612,
     "status": "ok",
     "timestamp": 1577361439473,
     "user": {
      "displayName": "清水嵩文",
      "photoUrl": "",
      "userId": "02000239383457745181"
     },
     "user_tz": -540
    },
    "id": "yoa0mby5bZt5",
    "outputId": "8fdd36d5-f123-44e3-cf30-e129d6d91078"
   },
   "outputs": [],
   "source": [
    "if torch.cuda.is_available():\n",
    "    device = 'cuda'\n",
    "else:\n",
    "    device = 'cpu'\n",
    "print(device)"
   ]
  },
  {
   "cell_type": "markdown",
   "metadata": {
    "colab_type": "text",
    "id": "esQiG93gBXlX"
   },
   "source": [
    "## 多層パーセプトロンでの画像分類をPyTorchで実装する際のステップは以下の通り\n",
    "- step1: データの読み込み\n",
    "- step2: ネットワークの定義\n",
    "- step3: 損失関数の定義 \n",
    "- step4: 最適化関数の定義\n",
    "- step5: 学習\n",
    "- step6: 学習したネットワークを使って未知データの予測"
   ]
  },
  {
   "cell_type": "markdown",
   "metadata": {
    "colab_type": "text",
    "id": "ifb2IdRVBXlY"
   },
   "source": [
    "## step1: データの読み込み"
   ]
  },
  {
   "cell_type": "code",
   "execution_count": null,
   "metadata": {
    "colab": {
     "base_uri": "https://localhost:8080/",
     "height": 187
    },
    "colab_type": "code",
    "executionInfo": {
     "elapsed": 12507,
     "status": "ok",
     "timestamp": 1577361453057,
     "user": {
      "displayName": "清水嵩文",
      "photoUrl": "",
      "userId": "02000239383457745181"
     },
     "user_tz": -540
    },
    "id": "k4DKFh4TBXlZ",
    "outputId": "bd3ecb3f-d7f0-4f10-8f3f-ecc9ebaa163c"
   },
   "outputs": [],
   "source": [
    "!wget https://datamix-advance-deeplearning.s3-ap-northeast-1.amazonaws.com/+day3/food_data.zip\n",
    "!unzip food_data.zip "
   ]
  },
  {
   "cell_type": "markdown",
   "metadata": {
    "colab_type": "text",
    "id": "Dgi7o3VeBXlc"
   },
   "source": [
    "### DataLoaderを作成\n",
    "---\n",
    "\n",
    "DataLoaderを作成し、forループでデータの一部のみを受け取れるようにします。\n",
    "\n",
    "datasets.ImageFolderは、画像がクラスごとに別れて格納されていると、(画像,targetラベル)といったタプル型のリストを生成してくれます。"
   ]
  },
  {
   "cell_type": "code",
   "execution_count": null,
   "metadata": {
    "colab": {},
    "colab_type": "code",
    "id": "cHSFiKaQbsnK"
   },
   "outputs": [],
   "source": [
    "transform = transforms.Compose(\n",
    "    [transforms.RandomResizedCrop(100, scale=(1.0, 1.0), ratio=(1.0, 1.0)),\n",
    "     transforms.ToTensor()])\n",
    "\n",
    "imageset = datasets.ImageFolder(root='food_data/train',\n",
    "                                transform=transform)\n",
    "\n",
    "train_size = int(0.85 * len(imageset))\n",
    "valid_size = len(imageset) - train_size\n",
    "trainset, validset = torch.utils.data.random_split(\n",
    "    imageset, [train_size, valid_size])\n",
    "trainloader = torch.utils.data.DataLoader(trainset, batch_size=32,\n",
    "                                          shuffle=True)\n",
    "validloader = torch.utils.data.DataLoader(validset, batch_size=32,\n",
    "                                          shuffle=False)"
   ]
  },
  {
   "cell_type": "code",
   "execution_count": null,
   "metadata": {
    "colab": {
     "base_uri": "https://localhost:8080/",
     "height": 274
    },
    "colab_type": "code",
    "executionInfo": {
     "elapsed": 2611,
     "status": "ok",
     "timestamp": 1577361481752,
     "user": {
      "displayName": "清水嵩文",
      "photoUrl": "",
      "userId": "02000239383457745181"
     },
     "user_tz": -540
    },
    "id": "kqTjWhBRb8em",
    "outputId": "9453e024-d799-4df4-a15c-4742e60b4ded"
   },
   "outputs": [],
   "source": [
    "classes = ['Bread', 'Dessert', 'Meat', 'Noodles-Pasta', 'Vegetable-Fruit']\n",
    "\n",
    "\n",
    "def imshow(img):\n",
    "    img = img / 2 + 0.5     # unnormalize\n",
    "    npimg = img.numpy()\n",
    "    print(np.transpose(npimg, (1, 2, 0)).shape)\n",
    "    plt.imshow(np.transpose(npimg, (1, 2, 0)))\n",
    "    plt.show()\n",
    "\n",
    "\n",
    "# Get a batch of training data\n",
    "dataiter = iter(trainloader)\n",
    "images, labels = dataiter.next()\n",
    "\n",
    "imshow(torchvision.utils.make_grid(images))\n",
    "# print labels\n",
    "print(' '.join('%5s' % classes[labels[j]] for j in range(len(labels))))"
   ]
  },
  {
   "cell_type": "markdown",
   "metadata": {
    "colab_type": "text",
    "id": "-lSuZYU7BXlg"
   },
   "source": [
    "## Step2:  ネットワークの定義"
   ]
  },
  {
   "cell_type": "code",
   "execution_count": null,
   "metadata": {
    "colab": {},
    "colab_type": "code",
    "id": "EJgvbS0ncXS4"
   },
   "outputs": [],
   "source": [
    "net = nn.Sequential(\n",
    "    nn.Linear(100*100*3, 500),\n",
    "    nn.ReLU(),\n",
    "    nn.Linear(500, 250),\n",
    "    nn.ReLU(),\n",
    "    nn.Linear(250, 250),\n",
    "    nn.ReLU(),\n",
    "    nn.Linear(250, 100),\n",
    "    nn.ReLU(),\n",
    "    nn.Linear(100, 50),\n",
    "    nn.ReLU(),\n",
    "    nn.Linear(50, 5)\n",
    ")"
   ]
  },
  {
   "cell_type": "markdown",
   "metadata": {
    "colab_type": "text",
    "id": "dU4e_L8QBXlj"
   },
   "source": [
    "### GPUに転送\n",
    "---\n",
    "GPUはCPUと違って、計算処理を順番に行うのではなく、並行化して行うことができます。<br>\n",
    "Deep Learningでは膨大な量の行列計算を行うので、GPUを利用し並列化して計算を行うと高速化が見込めます。"
   ]
  },
  {
   "cell_type": "code",
   "execution_count": null,
   "metadata": {
    "colab": {},
    "colab_type": "code",
    "id": "rITEsn7Gcvp3"
   },
   "outputs": [],
   "source": [
    "net = net.to(device)"
   ]
  },
  {
   "cell_type": "markdown",
   "metadata": {
    "colab_type": "text",
    "id": "fwm8rV0UBXll"
   },
   "source": [
    "## Step3: 目的関数に交差エントロピー誤差関数を用意（損失関数の定義）"
   ]
  },
  {
   "cell_type": "code",
   "execution_count": null,
   "metadata": {
    "colab": {
     "base_uri": "https://localhost:8080/",
     "height": 34
    },
    "colab_type": "code",
    "executionInfo": {
     "elapsed": 7142,
     "status": "ok",
     "timestamp": 1577361495795,
     "user": {
      "displayName": "清水嵩文",
      "photoUrl": "",
      "userId": "02000239383457745181"
     },
     "user_tz": -540
    },
    "id": "eDQXyio-czpr",
    "outputId": "e7891087-5443-4494-e868-6901e98e9589",
    "scrolled": true
   },
   "outputs": [],
   "source": [
    "loss_func = nn.CrossEntropyLoss()\n",
    "print(loss_func)"
   ]
  },
  {
   "cell_type": "markdown",
   "metadata": {
    "colab_type": "text",
    "id": "NzzAw37sBXln"
   },
   "source": [
    "## Step4: Optimizerを定義する（最適化関数の定義）\n",
    "---\n",
    "今回はSGDを利用します。"
   ]
  },
  {
   "cell_type": "code",
   "execution_count": null,
   "metadata": {
    "colab": {},
    "colab_type": "code",
    "id": "wL8CrHNXdBRf"
   },
   "outputs": [],
   "source": [
    "optimizer = optim.SGD(net.parameters(), lr=0.01)"
   ]
  },
  {
   "cell_type": "markdown",
   "metadata": {
    "colab_type": "text",
    "id": "twMPOsXPBXlq"
   },
   "source": [
    "## step5: 学習"
   ]
  },
  {
   "cell_type": "code",
   "execution_count": null,
   "metadata": {
    "colab": {
     "base_uri": "https://localhost:8080/",
     "height": 412
    },
    "colab_type": "code",
    "executionInfo": {
     "elapsed": 9520,
     "status": "error",
     "timestamp": 1577361868181,
     "user": {
      "displayName": "清水嵩文",
      "photoUrl": "",
      "userId": "02000239383457745181"
     },
     "user_tz": -540
    },
    "id": "dPbOIbL1dVZl",
    "outputId": "5311fba0-ec36-42ff-872f-3f963015db4a"
   },
   "outputs": [],
   "source": [
    "train_loss_track = []\n",
    "valid_loss_track = []\n",
    "\n",
    "epoc_num = 5\n",
    "\n",
    "for epoc in range(epoc_num):\n",
    "    running_loss = 0\n",
    "    running_valid_loss = 0\n",
    "\n",
    "    # 学習モード\n",
    "    net.train()\n",
    "    for step, (xx, yy) in enumerate(trainloader):\n",
    "\n",
    "        # device = \"cuda\"の場合、GPUにデータを転送する\n",
    "        xx = xx.view(-1, 100*100*3).to(device)\n",
    "        yy = yy.to(device)\n",
    "\n",
    "        # 最後に計算した各パラメーターの勾配を初期化する\n",
    "        optimizer.zero_grad()\n",
    "\n",
    "        # フォワード計算を行う\n",
    "        y_pred = net.forward(xx)\n",
    "\n",
    "        # 誤差関数を使ってギャップの計測\n",
    "        loss = loss_func(y_pred, yy)\n",
    "\n",
    "        # 誤差逆伝播法を使って自動微分\n",
    "        loss.backward()\n",
    "\n",
    "        # パラメーターを更新\n",
    "        optimizer.step()\n",
    "\n",
    "        # 学習データを使って損失を計算\n",
    "        running_loss += loss.item()\n",
    "\n",
    "        if step % 50 == 0:\n",
    "            print('[{:d}, {:5d}] loss: {}'.format(\n",
    "                epoc + 1, step + 1, running_loss / 50))\n",
    "            running_loss = 0.0\n",
    "\n",
    "    # エポックが終了したら平均損失を計算\n",
    "    train_loss_track.append(running_loss/step)\n",
    "\n",
    "    # 評価（evaluation）モード\n",
    "    net.eval()\n",
    "\n",
    "    with torch.no_grad():\n",
    "        for step, (xx_valid, yy_valid) in enumerate(validloader):\n",
    "\n",
    "            # device = \"cuda\"の場合、GPUにデータを転送する\n",
    "            xx_valid = xx_valid.view(-1, 100*100*3).to(device)\n",
    "            yy_valid = yy_valid.to(device)\n",
    "\n",
    "            # 予測値を計算\n",
    "            y_pred = net(xx_valid)\n",
    "\n",
    "            # 誤差関数を使ってギャップの計測\n",
    "            valid_loss = loss_func(y_pred, yy_valid)\n",
    "\n",
    "            # テストデータを使って損失を計算\n",
    "            running_valid_loss += valid_loss.item()\n",
    "\n",
    "        # 誤差をトラッキング\n",
    "        valid_loss_track.append(running_valid_loss / (step + 1))"
   ]
  },
  {
   "cell_type": "markdown",
   "metadata": {
    "colab_type": "text",
    "id": "zwGq693ZBXlt"
   },
   "source": [
    "### 交差エントロピー誤差の推移"
   ]
  },
  {
   "cell_type": "code",
   "execution_count": null,
   "metadata": {
    "colab": {
     "base_uri": "https://localhost:8080/",
     "height": 282
    },
    "colab_type": "code",
    "executionInfo": {
     "elapsed": 1957,
     "status": "ok",
     "timestamp": 1577361846937,
     "user": {
      "displayName": "清水嵩文",
      "photoUrl": "",
      "userId": "02000239383457745181"
     },
     "user_tz": -540
    },
    "id": "ENEgLNepdwJx",
    "outputId": "9a371e02-02c8-4bdc-a6a4-6786ecd8c936"
   },
   "outputs": [],
   "source": [
    "plt.plot(train_loss_track)"
   ]
  },
  {
   "cell_type": "code",
   "execution_count": null,
   "metadata": {
    "colab": {
     "base_uri": "https://localhost:8080/",
     "height": 286
    },
    "colab_type": "code",
    "executionInfo": {
     "elapsed": 1664,
     "status": "ok",
     "timestamp": 1577361849434,
     "user": {
      "displayName": "清水嵩文",
      "photoUrl": "",
      "userId": "02000239383457745181"
     },
     "user_tz": -540
    },
    "id": "I0V-ZaQYf3Z-",
    "outputId": "680ed924-2d2f-430d-dac7-391ff86840eb"
   },
   "outputs": [],
   "source": [
    "plt.plot(valid_loss_track)"
   ]
  },
  {
   "cell_type": "code",
   "execution_count": null,
   "metadata": {
    "colab": {
     "base_uri": "https://localhost:8080/",
     "height": 34
    },
    "colab_type": "code",
    "executionInfo": {
     "elapsed": 3659,
     "status": "ok",
     "timestamp": 1577361853937,
     "user": {
      "displayName": "清水嵩文",
      "photoUrl": "",
      "userId": "02000239383457745181"
     },
     "user_tz": -540
    },
    "id": "1whsTcmif6fY",
    "outputId": "998543cc-467e-437a-a4ab-455125503d2d"
   },
   "outputs": [],
   "source": [
    "true = 0\n",
    "total = 0\n",
    "\n",
    "all_labels = np.array([])\n",
    "all_preds = np.array([])\n",
    "\n",
    "with torch.no_grad():\n",
    "    for valid_xx, valid_yy in validloader:\n",
    "\n",
    "        # device = \"cuda\"の場合、GPUにデータを転送する\n",
    "        valid_xx = valid_xx.view(-1, 100*100*3).to(device)\n",
    "        valid_yy = valid_yy.to(device)\n",
    "\n",
    "        outputs = net(valid_xx)\n",
    "        _, predicted = torch.max(outputs.data, 1)\n",
    "\n",
    "        all_labels = np.append(all_labels, valid_yy.cpu().data.numpy())\n",
    "        all_preds = np.append(all_preds, predicted.cpu().numpy())\n",
    "\n",
    "        total += valid_yy.size(0)\n",
    "        true += (predicted == valid_yy).sum().item()\n",
    "print('Accuracy: {:.2f} %'.format(100 * float(true/total)))"
   ]
  },
  {
   "cell_type": "code",
   "execution_count": null,
   "metadata": {
    "colab": {},
    "colab_type": "code",
    "id": "_KqPPxt9idHM"
   },
   "outputs": [],
   "source": [
    "labels = np.unique(all_labels)\n",
    "cm = confusion_matrix(all_labels, all_preds, labels=labels)\n",
    "cm_labeled = pd.DataFrame(cm, columns=labels, index=labels)\n",
    "cm_labeled"
   ]
  },
  {
   "cell_type": "markdown",
   "metadata": {
    "colab_type": "text",
    "id": "rTL7rGUNBXl2"
   },
   "source": [
    "## step6: 学習したネットワークを使って未知データの予測"
   ]
  },
  {
   "cell_type": "code",
   "execution_count": null,
   "metadata": {
    "colab": {},
    "colab_type": "code",
    "id": "K0OnE4ohj9A4"
   },
   "outputs": [],
   "source": [
    "testset = datasets.ImageFolder(root='food_data/test',\n",
    "                               transform=transform)\n",
    "\n",
    "testloader = torch.utils.data.DataLoader(testset, batch_size=4,\n",
    "                                         shuffle=False)"
   ]
  },
  {
   "cell_type": "code",
   "execution_count": null,
   "metadata": {
    "colab": {},
    "colab_type": "code",
    "id": "ITdiaA3OkL3Y"
   },
   "outputs": [],
   "source": [
    "predict = 0\n",
    "\n",
    "all_preds = np.array([])\n",
    "\n",
    "with torch.no_grad():\n",
    "    for test_xx, test_yy in testloader:\n",
    "\n",
    "        test_xx = test_xx.view(-1, 100*100*3).to(device)\n",
    "\n",
    "        outputs = net(test_xx)\n",
    "        _, predicted = torch.max(outputs.data, 1)\n",
    "\n",
    "        all_preds = np.append(all_preds, predicted.cpu().numpy())\n",
    "\n",
    "all_preds"
   ]
  },
  {
   "cell_type": "code",
   "execution_count": null,
   "metadata": {
    "colab": {},
    "colab_type": "code",
    "id": "ByJXh_-skOSG"
   },
   "outputs": [],
   "source": [
    "# submitするためのcsvファイルを作成\n",
    "submissions = pd.DataFrame({\"Id\": list(range(1, len(all_preds)+1)),\n",
    "                            \"Label\": all_preds})\n",
    "submissions.to_csv(\"dnn_submission.csv\", index=False, header=True)"
   ]
  }
 ],
 "metadata": {
  "accelerator": "GPU",
  "colab": {
   "collapsed_sections": [],
   "name": "Foods5_DNN.ipynb",
   "provenance": []
  },
  "kernelspec": {
   "display_name": "Python 3",
   "language": "python",
   "name": "python3"
  },
  "language_info": {
   "codemirror_mode": {
    "name": "ipython",
    "version": 3
   },
   "file_extension": ".py",
   "mimetype": "text/x-python",
   "name": "python",
   "nbconvert_exporter": "python",
   "pygments_lexer": "ipython3",
   "version": "3.6.5"
  },
  "latex_envs": {
   "LaTeX_envs_menu_present": true,
   "autoclose": false,
   "autocomplete": true,
   "bibliofile": "biblio.bib",
   "cite_by": "apalike",
   "current_citInitial": 1,
   "eqLabelWithNumbers": true,
   "eqNumInitial": 1,
   "hotkeys": {
    "equation": "Ctrl-E",
    "itemize": "Ctrl-I"
   },
   "labels_anchors": false,
   "latex_user_defs": false,
   "report_style_numbering": false,
   "user_envs_cfg": false
  }
 },
 "nbformat": 4,
 "nbformat_minor": 1
}
