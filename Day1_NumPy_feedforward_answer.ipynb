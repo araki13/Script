{
 "cells": [
  {
   "cell_type": "code",
   "execution_count": null,
   "metadata": {},
   "outputs": [],
   "source": [
    "import numpy as np"
   ]
  },
  {
   "cell_type": "markdown",
   "metadata": {},
   "source": [
    "## 活性化関数を定義します"
   ]
  },
  {
   "cell_type": "code",
   "execution_count": null,
   "metadata": {},
   "outputs": [],
   "source": [
    "def sigmoid(x):\n",
    "    return 1/(1+np.exp(-x))"
   ]
  },
  {
   "cell_type": "markdown",
   "metadata": {},
   "source": [
    "## 入力データ（ダミー）を作ります"
   ]
  },
  {
   "cell_type": "code",
   "execution_count": null,
   "metadata": {},
   "outputs": [],
   "source": [
    "np.random.seed(1234)\n",
    "rows = 100\n",
    "cols = 50\n",
    "X = np.random.normal(0, 1, [rows, cols])"
   ]
  },
  {
   "cell_type": "markdown",
   "metadata": {},
   "source": [
    "## 作成したいネットワーク\n",
    "\n",
    "入力層: 50\n",
    "\n",
    "隠れ層1層目: 50→20\n",
    "\n",
    "隠れ層2層目: 20→10\n",
    "\n",
    "出力層 10→2\n",
    "\n",
    "上記のようなネットワークを作成したい場合、NumPyでどのように書けば良いでしょうか？\n"
   ]
  },
  {
   "cell_type": "markdown",
   "metadata": {},
   "source": [
    "### 隠れ層1層目 50から20"
   ]
  },
  {
   "cell_type": "code",
   "execution_count": null,
   "metadata": {},
   "outputs": [],
   "source": [
    "W1 = np.random.normal(0, 1, (50, 20))\n",
    "b1 = np.random.normal(0, 1, 20)"
   ]
  },
  {
   "cell_type": "code",
   "execution_count": null,
   "metadata": {},
   "outputs": [],
   "source": [
    "Z1 = X.dot(W1) + b1\n",
    "H1 = sigmoid(Z1)"
   ]
  },
  {
   "cell_type": "code",
   "execution_count": null,
   "metadata": {},
   "outputs": [],
   "source": [
    "H1.shape"
   ]
  },
  {
   "cell_type": "markdown",
   "metadata": {},
   "source": [
    "### 隠れ層2層目 20から10"
   ]
  },
  {
   "cell_type": "code",
   "execution_count": null,
   "metadata": {},
   "outputs": [],
   "source": [
    "W2 = np.random.normal(0, 1, (20, 10))\n",
    "b2 = np.random.normal(0, 1, 10)"
   ]
  },
  {
   "cell_type": "code",
   "execution_count": null,
   "metadata": {},
   "outputs": [],
   "source": [
    "Z2 = H1.dot(W2) + b2\n",
    "H2 = sigmoid(Z2)"
   ]
  },
  {
   "cell_type": "code",
   "execution_count": null,
   "metadata": {},
   "outputs": [],
   "source": [
    "H2.shape"
   ]
  },
  {
   "cell_type": "markdown",
   "metadata": {},
   "source": [
    "### 出力層 10から2"
   ]
  },
  {
   "cell_type": "code",
   "execution_count": null,
   "metadata": {},
   "outputs": [],
   "source": [
    "W3 = np.random.normal(0, 1, (10, 2))\n",
    "b3 = np.random.normal(0, 1, 2)"
   ]
  },
  {
   "cell_type": "code",
   "execution_count": null,
   "metadata": {},
   "outputs": [],
   "source": [
    "Z3 = H2.dot(W3) + b3\n",
    "out = sigmoid(Z3)"
   ]
  },
  {
   "cell_type": "code",
   "execution_count": null,
   "metadata": {},
   "outputs": [],
   "source": [
    "out"
   ]
  },
  {
   "cell_type": "markdown",
   "metadata": {},
   "source": [
    "## 練習問題: 以下のネットワークを作成してください\n",
    "\n",
    "入力層: 100\n",
    "\n",
    "隠れ層1層目: 100→50\n",
    "\n",
    "隠れ層2層目: 50→25\n",
    "\n",
    "隠れ層3層目: 25→10\n",
    "\n",
    "出力層 10→2\n",
    "\n",
    "上記のようなネットワークを作成したい場合、NumPyでどのように書けば良いでしょうか？"
   ]
  },
  {
   "cell_type": "code",
   "execution_count": null,
   "metadata": {},
   "outputs": [],
   "source": [
    "# 入力データ（ダミー）を作ります¶\n",
    "np.random.seed(1234)\n",
    "rows = 50\n",
    "cols = 100\n",
    "X = np.random.normal(0, 1, [rows, cols])"
   ]
  },
  {
   "cell_type": "code",
   "execution_count": null,
   "metadata": {},
   "outputs": [],
   "source": [
    "# 隠れ層1層目 100から50\n",
    "W1 = np.random.normal(0, 1, (100, 50))\n",
    "b1 = np.random.normal(0, 1, 50)\n",
    "Z1 = X.dot(W1) + b1\n",
    "H1 = sigmoid(Z1)\n",
    "H1.shape"
   ]
  },
  {
   "cell_type": "code",
   "execution_count": null,
   "metadata": {},
   "outputs": [],
   "source": [
    "# 隠れ層2層目 50から25\n",
    "W2 = np.random.normal(0, 1, (50, 25))\n",
    "b2 = np.random.normal(0, 1, 25)\n",
    "Z2 = H1.dot(W2) + b2\n",
    "H2 = sigmoid(Z2)\n",
    "H2.shape"
   ]
  },
  {
   "cell_type": "code",
   "execution_count": null,
   "metadata": {},
   "outputs": [],
   "source": [
    "# 隠れ層3層目 25から10\n",
    "W3 = np.random.normal(0, 1, (25, 10))\n",
    "b3 = np.random.normal(0, 1, 10)\n",
    "Z3 = H2.dot(W3) + b3\n",
    "H3 = sigmoid(Z3)\n",
    "H3.shape"
   ]
  },
  {
   "cell_type": "code",
   "execution_count": null,
   "metadata": {},
   "outputs": [],
   "source": [
    "# 出力層10から2\n",
    "W4 = np.random.normal(0, 1, (10, 2))\n",
    "b4 = np.random.normal(0, 1, 2)\n",
    "Z4 = H3.dot(W4) + b4\n",
    "out = sigmoid(Z4)\n",
    "out"
   ]
  },
  {
   "cell_type": "code",
   "execution_count": null,
   "metadata": {},
   "outputs": [],
   "source": []
  }
 ],
 "metadata": {
  "kernelspec": {
   "display_name": "Python 3",
   "language": "python",
   "name": "python3"
  },
  "language_info": {
   "codemirror_mode": {
    "name": "ipython",
    "version": 3
   },
   "file_extension": ".py",
   "mimetype": "text/x-python",
   "name": "python",
   "nbconvert_exporter": "python",
   "pygments_lexer": "ipython3",
   "version": "3.6.5"
  }
 },
 "nbformat": 4,
 "nbformat_minor": 2
}
