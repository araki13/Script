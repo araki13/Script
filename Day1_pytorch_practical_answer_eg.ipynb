{
 "cells": [
  {
   "cell_type": "code",
   "execution_count": null,
   "metadata": {
    "colab": {},
    "colab_type": "code",
    "id": "NPJLLPpdlaMK"
   },
   "outputs": [],
   "source": [
    "%matplotlib inline\n",
    "\n",
    "import numpy as np\n",
    "import pandas as pd\n",
    "import torch\n",
    "from torch import nn\n",
    "from torch import optim\n",
    "import torch.nn.functional as F\n",
    "from torch.utils.data import DataLoader, TensorDataset\n",
    "from sklearn.model_selection import train_test_split\n",
    "from sklearn.metrics import confusion_matrix\n",
    "import matplotlib.pyplot as plt\n",
    "\n",
    "# digitsデータを使うためにimportする\n",
    "from torchvision.datasets import MNIST\n",
    "\n",
    "# digitsデータを使うためにimportする\n",
    "from sklearn.datasets import load_digits"
   ]
  },
  {
   "cell_type": "markdown",
   "metadata": {
    "colab_type": "text",
    "id": "UJgdo-SukQo8"
   },
   "source": [
    "## GPUを使える場合はGPUを使うための準備"
   ]
  },
  {
   "cell_type": "code",
   "execution_count": null,
   "metadata": {
    "colab": {
     "base_uri": "https://localhost:8080/",
     "height": 34
    },
    "colab_type": "code",
    "executionInfo": {
     "elapsed": 970,
     "status": "ok",
     "timestamp": 1566309482494,
     "user": {
      "displayName": "清水嵩文",
      "photoUrl": "",
      "userId": "02000239383457745181"
     },
     "user_tz": -540
    },
    "id": "Of3n6dPvkSUM",
    "outputId": "5dbea3ae-b777-4136-b6f1-9267eb45de0f"
   },
   "outputs": [],
   "source": [
    "# GPUを使える場合はGPUを使うための準備\n",
    "if torch.cuda.is_available():\n",
    "    device = 'cuda'\n",
    "else:\n",
    "    device = 'cpu'\n",
    "print(device)"
   ]
  },
  {
   "cell_type": "markdown",
   "metadata": {
    "colab_type": "text",
    "id": "ZxAsKQY3yd0t"
   },
   "source": [
    "## 多層パーセプトロンでの画像分類をPyTorchで実装する際のステップは以下の通り\n",
    "- step1: データの読み込み\n",
    "- step2: ネットワークの定義\n",
    "- step3: 損失関数の定義 \n",
    "- step4: 最適化関数の定義\n",
    "- step5: 学習（講義コードはここまで）\n",
    "- step6: 学習したネットワークを使って未知データの予測"
   ]
  },
  {
   "cell_type": "markdown",
   "metadata": {
    "colab_type": "text",
    "id": "z3uVv949CoEg"
   },
   "source": [
    "## step1: データの読み込み\n",
    "---\n",
    "データを読み込み、Xとy別々に保存"
   ]
  },
  {
   "cell_type": "code",
   "execution_count": null,
   "metadata": {
    "colab": {},
    "colab_type": "code",
    "id": "3Em0dQUEmFoV"
   },
   "outputs": [],
   "source": [
    "X = load_digits()[\"data\"]\n",
    "y = load_digits()[\"target\"]"
   ]
  },
  {
   "cell_type": "code",
   "execution_count": null,
   "metadata": {
    "colab": {
     "base_uri": "https://localhost:8080/",
     "height": 286
    },
    "colab_type": "code",
    "executionInfo": {
     "elapsed": 518,
     "status": "ok",
     "timestamp": 1566309485608,
     "user": {
      "displayName": "清水嵩文",
      "photoUrl": "",
      "userId": "02000239383457745181"
     },
     "user_tz": -540
    },
    "id": "zJ8YuUFCn9OI",
    "outputId": "94d03511-98c2-4a08-ad9f-91e806cca5a7"
   },
   "outputs": [],
   "source": [
    "idx = 2\n",
    "plt.imshow(X[idx].reshape(8, 8), cmap=plt.cm.gray_r, interpolation='nearest')\n",
    "print(\"Target: \", y[idx])"
   ]
  },
  {
   "cell_type": "markdown",
   "metadata": {
    "colab_type": "text",
    "id": "Uisxbv9nzr8_"
   },
   "source": [
    "## NumPyのarrayをtorch.tensor型に変換する\n",
    "---\n",
    "torch.tensor型とは、多次元配列を扱うためのデータ構造です。<br>\n",
    "Numpyのndarrayとほぼ同様の操作ができますが、torch.tensor型はNumpyと違いGPU処理が可能です。"
   ]
  },
  {
   "cell_type": "code",
   "execution_count": null,
   "metadata": {
    "colab": {},
    "colab_type": "code",
    "id": "n_E4G4jsyd02"
   },
   "outputs": [],
   "source": [
    "X_train, X_test, y_train,  y_test = train_test_split(\n",
    "    X, y, test_size=0.3, random_state=1234)"
   ]
  },
  {
   "cell_type": "code",
   "execution_count": null,
   "metadata": {
    "colab": {},
    "colab_type": "code",
    "id": "45wvEtTFn8R7"
   },
   "outputs": [],
   "source": [
    "X_train_tensor = torch.tensor(X_train, dtype=torch.float32)\n",
    "y_train_tensor = torch.tensor(y_train, dtype=torch.int64)\n",
    "X_test_tensor = torch.tensor(X_test, dtype=torch.float32)\n",
    "y_test_tensor = torch.tensor(y_test, dtype=torch.int64)"
   ]
  },
  {
   "cell_type": "code",
   "execution_count": null,
   "metadata": {
    "colab": {
     "base_uri": "https://localhost:8080/",
     "height": 51
    },
    "colab_type": "code",
    "executionInfo": {
     "elapsed": 1494,
     "status": "ok",
     "timestamp": 1566309504514,
     "user": {
      "displayName": "清水嵩文",
      "photoUrl": "",
      "userId": "02000239383457745181"
     },
     "user_tz": -540
    },
    "id": "H-FmeXQ2yd05",
    "outputId": "06b53742-ea55-4071-a02f-e587e34c374c"
   },
   "outputs": [],
   "source": [
    "print(X_train_tensor.shape)\n",
    "print(X_test_tensor.shape)"
   ]
  },
  {
   "cell_type": "markdown",
   "metadata": {
    "colab_type": "text",
    "id": "xsrIzjxBC53K"
   },
   "source": [
    "## TensorDatasetを作成後、DataLoaderを作成\n",
    "---\n",
    "TensorDatasetは特徴量Xとラベルyをまとめるデータ構造です。<br>\n",
    "そのTensorDatasetをDataLoaderに渡すことで、forループでデータの一部のみを受け取れるようにします。"
   ]
  },
  {
   "cell_type": "code",
   "execution_count": null,
   "metadata": {
    "colab": {},
    "colab_type": "code",
    "id": "DqeFHDWJyd07"
   },
   "outputs": [],
   "source": [
    "train_dataset = TensorDataset(X_train_tensor, y_train_tensor)\n",
    "train_loader = DataLoader(train_dataset, batch_size=50, shuffle=True)"
   ]
  },
  {
   "cell_type": "code",
   "execution_count": null,
   "metadata": {
    "colab": {},
    "colab_type": "code",
    "id": "nSsa_0vlDJzT"
   },
   "outputs": [],
   "source": [
    "test_dataset = TensorDataset(X_test_tensor, y_test_tensor)\n",
    "test_loader = DataLoader(test_dataset, batch_size=50, shuffle=True)"
   ]
  },
  {
   "cell_type": "markdown",
   "metadata": {
    "colab_type": "text",
    "id": "ruXbbHXUyd09"
   },
   "source": [
    "## Step2: ネットワークの定義 - nn.Moduleを継承する場合\n",
    "---\n",
    "より複雑なネットワークを書くための練習をしましょう。\n",
    "\n",
    "「Day1_pytorch_intro.ipynb」では、ネットワークの定義を以下のように実行していました。\n",
    "\n",
    "```\n",
    "net = nn.Sequential(\n",
    "    nn.Linear(64,32),\n",
    "    nn.ReLU(),\n",
    "    nn.Linear(32,10)\n",
    ")\n",
    "```\n",
    "\n",
    "しかし上記方法では、分岐を含むような複雑なネットワークを定義することができません。<br>\n",
    "そのため以下のような書き方を練習しておきましょう！"
   ]
  },
  {
   "cell_type": "code",
   "execution_count": null,
   "metadata": {
    "colab": {
     "base_uri": "https://localhost:8080/",
     "height": 136
    },
    "colab_type": "code",
    "executionInfo": {
     "elapsed": 440,
     "status": "ok",
     "timestamp": 1566309529371,
     "user": {
      "displayName": "清水嵩文",
      "photoUrl": "",
      "userId": "02000239383457745181"
     },
     "user_tz": -540
    },
    "id": "crfnN7gAluBf",
    "outputId": "5888e55f-cedb-4577-8551-e6508a5e4bc4"
   },
   "outputs": [],
   "source": [
    "# # 「Day1_pytorch_intro.ipynb」の書き方\n",
    "# net = nn.Sequential(\n",
    "#     nn.Linear(64,32),\n",
    "#     nn.ReLU(),\n",
    "#     nn.Linear(32,16),\n",
    "#     nn.ReLU(),\n",
    "#     nn.Linear(16,10)\n",
    "# )\n",
    "# net"
   ]
  },
  {
   "cell_type": "markdown",
   "metadata": {
    "colab_type": "text",
    "id": "YvSmGo40yd0_"
   },
   "source": [
    "## ネットワークの書き方 - nn.Moduleを継承する場合"
   ]
  },
  {
   "cell_type": "code",
   "execution_count": null,
   "metadata": {
    "colab": {},
    "colab_type": "code",
    "id": "mJ9lhhSvyd1A"
   },
   "outputs": [],
   "source": [
    "class myMLP(nn.Module):\n",
    "    def __init__(self, in_features, out_features):\n",
    "        super().__init__()\n",
    "        self.ln1 = nn.Linear(in_features, 32)\n",
    "        self.ln2 = nn.Linear(32, 16)\n",
    "        self.ln3 = nn.Linear(16, out_features)\n",
    "\n",
    "    def forward(self, x):\n",
    "        x = self.ln1(x)\n",
    "        x = F.relu(x)\n",
    "        x = self.ln2(x)\n",
    "        x = F.relu(x)\n",
    "        x = self.ln3(x)\n",
    "        return x"
   ]
  },
  {
   "cell_type": "code",
   "execution_count": null,
   "metadata": {
    "colab": {
     "base_uri": "https://localhost:8080/",
     "height": 102
    },
    "colab_type": "code",
    "executionInfo": {
     "elapsed": 594,
     "status": "ok",
     "timestamp": 1566309537736,
     "user": {
      "displayName": "清水嵩文",
      "photoUrl": "",
      "userId": "02000239383457745181"
     },
     "user_tz": -540
    },
    "id": "qzahgGWvyd1C",
    "outputId": "4e4f5741-a65b-4fff-d2c9-302de376e384"
   },
   "outputs": [],
   "source": [
    "net = myMLP(64, 10)\n",
    "net"
   ]
  },
  {
   "cell_type": "markdown",
   "metadata": {
    "colab_type": "text",
    "id": "11Wv7MkVyd1F"
   },
   "source": [
    "## Step3: 目的関数に交差エントロピー誤差関数を用意（損失関数の定義）\n",
    "---\n",
    "他クラス分類問題なので交差エントロピー誤差関数を設定します。<br>\n",
    "※ 回帰問題のために、MSELoss()等も用意されています。[Loss functionドキュメント](https://pytorch.org/docs/stable/nn.html#loss-functions)"
   ]
  },
  {
   "cell_type": "code",
   "execution_count": null,
   "metadata": {
    "colab": {
     "base_uri": "https://localhost:8080/",
     "height": 34
    },
    "colab_type": "code",
    "executionInfo": {
     "elapsed": 491,
     "status": "ok",
     "timestamp": 1566309543982,
     "user": {
      "displayName": "清水嵩文",
      "photoUrl": "",
      "userId": "02000239383457745181"
     },
     "user_tz": -540
    },
    "id": "wwnMZGtDmp9g",
    "outputId": "b8b95977-50fa-40f2-b859-b984bf830eab"
   },
   "outputs": [],
   "source": [
    "loss_func = nn.CrossEntropyLoss()\n",
    "print(loss_func)"
   ]
  },
  {
   "cell_type": "markdown",
   "metadata": {
    "colab_type": "text",
    "id": "XeMxRM5-yd1I"
   },
   "source": [
    "## Step4: Optimizerを定義する（最適化関数の定義\n",
    "---\n",
    "今回はAdamを使用してください。<br>\n",
    "Optimizerには、SGD等も用意されている。[Optimizerドキュメント](https://pytorch.org/docs/stable/optim.html)"
   ]
  },
  {
   "cell_type": "code",
   "execution_count": null,
   "metadata": {
    "colab": {},
    "colab_type": "code",
    "id": "OiIFzkCQmt-3"
   },
   "outputs": [],
   "source": [
    "optimizer = optim.Adam(net.parameters())"
   ]
  },
  {
   "cell_type": "markdown",
   "metadata": {
    "colab_type": "text",
    "id": "gcb8oCDl0DC3"
   },
   "source": [
    "## GPUに転送\n",
    "---\n",
    "GPUはCPUと違って、計算処理を順番に行うのではなく、並行化して行うことができます。<br>\n",
    "Deep Learningでは膨大な量の行列計算を行うので、GPUを利用し並列化して計算を行うと高速化が見込めます。"
   ]
  },
  {
   "cell_type": "code",
   "execution_count": null,
   "metadata": {
    "colab": {},
    "colab_type": "code",
    "id": "_3zROJDfsssh"
   },
   "outputs": [],
   "source": [
    "net = net.to(device)"
   ]
  },
  {
   "cell_type": "markdown",
   "metadata": {
    "colab_type": "text",
    "id": "7Gr00kUIyd1T"
   },
   "source": [
    "## step5: 学習"
   ]
  },
  {
   "cell_type": "code",
   "execution_count": null,
   "metadata": {
    "colab": {},
    "colab_type": "code",
    "id": "COixGNNlm45m"
   },
   "outputs": [],
   "source": [
    "train_loss_track = []\n",
    "test_loss_track = []\n",
    "\n",
    "for epoc in range(100):\n",
    "    running_loss = 0\n",
    "    \n",
    "    # 学習モード\n",
    "    net.train()\n",
    "    for step, (xx, yy)  in enumerate(train_loader):\n",
    "        \n",
    "        # device = \"cuda\"の場合、GPUにデータを転送する\n",
    "        xx = xx.to(device)\n",
    "        yy = yy.to(device)\n",
    "        \n",
    "        # 最後に計算した各パラメーターの勾配を初期化する\n",
    "        optimizer.zero_grad()\n",
    "        \n",
    "        # フォワード計算を行う\n",
    "        y_pred = net(xx)\n",
    "        \n",
    "        # 誤差関数を使ってギャップの計測\n",
    "        loss = loss_func(y_pred, yy)\n",
    "        \n",
    "        # 誤差逆伝播法を使って自動微分\n",
    "        loss.backward()\n",
    "        \n",
    "        # パラメーターを更新\n",
    "        optimizer.step()\n",
    "        \n",
    "        # 学習データを使って損失を計算\n",
    "        running_loss += loss.item()\n",
    "        \n",
    "    # エポックが終了したら平均損失を計算\n",
    "    train_loss_track.append(running_loss/step)\n",
    "    \n",
    "    \n",
    "    #評価（evaluation）モード\n",
    "    net.eval()\n",
    "    \n",
    "    # device = \"cuda\"であれば評価用データをGPUに転送する\n",
    "    X_test_tensor = X_test_tensor.to(device)\n",
    "    y_test_tensor = y_test_tensor.to(device)\n",
    "    \n",
    "    # 予測値を計算\n",
    "    y_pred = net(X_test_tensor)\n",
    "    \n",
    "    # 交差エントロピー誤差関数を計算\n",
    "    test_loss = loss_func(y_pred, y_test_tensor)\n",
    "    \n",
    "    # 誤差をトラッキング\n",
    "    test_loss_track.append(test_loss)"
   ]
  },
  {
   "cell_type": "code",
   "execution_count": null,
   "metadata": {},
   "outputs": [],
   "source": [
    "net(X_test_tensor)[0].shape"
   ]
  },
  {
   "cell_type": "markdown",
   "metadata": {
    "colab_type": "text",
    "id": "1Em2dkqsyd1X"
   },
   "source": [
    "## 交差エントロピー誤差の推移"
   ]
  },
  {
   "cell_type": "code",
   "execution_count": null,
   "metadata": {
    "colab": {
     "base_uri": "https://localhost:8080/",
     "height": 286
    },
    "colab_type": "code",
    "executionInfo": {
     "elapsed": 761,
     "status": "ok",
     "timestamp": 1566309627419,
     "user": {
      "displayName": "清水嵩文",
      "photoUrl": "",
      "userId": "02000239383457745181"
     },
     "user_tz": -540
    },
    "id": "AceuGmpYnNel",
    "outputId": "49521213-d0b1-43ba-bc2a-f627aeeda343"
   },
   "outputs": [],
   "source": [
    "plt.plot(train_loss_track)"
   ]
  },
  {
   "cell_type": "code",
   "execution_count": null,
   "metadata": {
    "colab": {
     "base_uri": "https://localhost:8080/",
     "height": 286
    },
    "colab_type": "code",
    "executionInfo": {
     "elapsed": 653,
     "status": "ok",
     "timestamp": 1566309628755,
     "user": {
      "displayName": "清水嵩文",
      "photoUrl": "",
      "userId": "02000239383457745181"
     },
     "user_tz": -540
    },
    "id": "Qs6FRPo4n6Qv",
    "outputId": "79f0d2a3-17ca-48c8-dd9b-11b7352f8a0f"
   },
   "outputs": [],
   "source": [
    "plt.plot(test_loss_track)"
   ]
  },
  {
   "cell_type": "markdown",
   "metadata": {
    "colab_type": "text",
    "id": "7lv5q_YbEJOP"
   },
   "source": [
    "## testデータでAccuracyを計算"
   ]
  },
  {
   "cell_type": "code",
   "execution_count": null,
   "metadata": {
    "colab": {
     "base_uri": "https://localhost:8080/",
     "height": 34
    },
    "colab_type": "code",
    "executionInfo": {
     "elapsed": 434,
     "status": "ok",
     "timestamp": 1566309630330,
     "user": {
      "displayName": "清水嵩文",
      "photoUrl": "",
      "userId": "02000239383457745181"
     },
     "user_tz": -540
    },
    "id": "sDDkA6lM0N6l",
    "outputId": "29e16830-3dcf-4376-9491-e0ab2b631da2"
   },
   "outputs": [],
   "source": [
    "true = 0\n",
    "total = 0\n",
    "\n",
    "all_labels = np.array([])\n",
    "all_preds = np.array([])\n",
    "\n",
    "with torch.no_grad():\n",
    "    for test_xx, test_yy in test_loader:\n",
    "        \n",
    "        # device = \"cuda\"の場合、GPUにデータを転送する\n",
    "        test_xx = test_xx.to(device)\n",
    "        test_yy = test_yy.to(device)\n",
    "\n",
    "        outputs = net(test_xx)\n",
    "        _, predicted = torch.max(outputs.data, 1)\n",
    "        \n",
    "        all_labels = np.append(all_labels, test_yy.cpu().data.numpy())\n",
    "        all_preds = np.append(all_preds, predicted.cpu().numpy())\n",
    "        \n",
    "        total += test_yy.size(0)\n",
    "        true += (predicted == test_yy).sum().item()\n",
    "print('Accuracy: {:.2f} %'.format(100 * float(true/total)))"
   ]
  },
  {
   "cell_type": "markdown",
   "metadata": {
    "colab_type": "text",
    "id": "mDRymm-eECEi"
   },
   "source": [
    "## testデータで混同行列を作成"
   ]
  },
  {
   "cell_type": "code",
   "execution_count": null,
   "metadata": {
    "colab": {
     "base_uri": "https://localhost:8080/",
     "height": 359
    },
    "colab_type": "code",
    "executionInfo": {
     "elapsed": 501,
     "status": "ok",
     "timestamp": 1566309632563,
     "user": {
      "displayName": "清水嵩文",
      "photoUrl": "",
      "userId": "02000239383457745181"
     },
     "user_tz": -540
    },
    "id": "uoGxlV7V0VSr",
    "outputId": "8b8d2834-af27-4545-c46e-9ab1b7188f27",
    "scrolled": true
   },
   "outputs": [],
   "source": [
    "labels = np.unique(all_labels)\n",
    "cm = confusion_matrix(all_labels, all_preds, labels=labels)\n",
    "cm_labeled = pd.DataFrame(cm, columns=labels, index=labels)\n",
    "cm_labeled"
   ]
  },
  {
   "cell_type": "markdown",
   "metadata": {
    "colab_type": "text",
    "id": "l1y8IQ9EVGhq"
   },
   "source": [
    "## 練習１：Dropoutを組み込んでみましょう\n",
    "---\n",
    "nn.Dropout(0.5)を組み込んで、オーバーフィッティングしないようにしてみましょう"
   ]
  },
  {
   "cell_type": "code",
   "execution_count": null,
   "metadata": {},
   "outputs": [],
   "source": [
    "# 実装してみる\n",
    "net = nn.Sequential(\n",
    "    nn.Linear(64,32),\n",
    "    nn.ReLU(),\n",
    "    nn.Dropout(0.5),\n",
    "    nn.Linear(32,16),\n",
    "    nn.ReLU(),\n",
    "    nn.Linear(16,10)\n",
    ")"
   ]
  },
  {
   "cell_type": "code",
   "execution_count": null,
   "metadata": {},
   "outputs": [],
   "source": [
    "optimizer = optim.Adam(net.parameters())"
   ]
  },
  {
   "cell_type": "code",
   "execution_count": null,
   "metadata": {},
   "outputs": [],
   "source": [
    "net = net.to(device)\n",
    "\n",
    "train_loss_track = []\n",
    "test_loss_track = []\n",
    "\n",
    "for epoc in range(100):\n",
    "    running_loss = 0\n",
    "    \n",
    "    # 学習モード\n",
    "    net.train()\n",
    "    for step, (xx, yy)  in enumerate(train_loader):\n",
    "        \n",
    "        # device = \"cuda\"の場合、GPUにデータを転送する\n",
    "        xx = xx.to(device)\n",
    "        yy = yy.to(device)\n",
    "        \n",
    "        # 最後に計算した各パラメーターの勾配を初期化する\n",
    "        optimizer.zero_grad()\n",
    "        \n",
    "        # フォワード計算を行う\n",
    "        y_pred = net(xx)\n",
    "        \n",
    "        # 誤差関数を使ってギャップの計測\n",
    "        loss = loss_func(y_pred, yy)\n",
    "        \n",
    "        # 誤差逆伝播法を使って自動微分\n",
    "        loss.backward()\n",
    "        \n",
    "        # パラメーターを更新\n",
    "        optimizer.step()\n",
    "        \n",
    "        # 学習データを使って損失を計算\n",
    "        running_loss += loss.item()\n",
    "        \n",
    "    # エポックが終了したら平均損失を計算\n",
    "    train_loss_track.append(running_loss/step)\n",
    "    \n",
    "    \n",
    "    #評価（evaluation）モード\n",
    "    net.eval()\n",
    "    \n",
    "    # device = \"cuda\"であれば評価用データをGPUに転送する\n",
    "    X_test_tensor = X_test_tensor.to(device)\n",
    "    y_test_tensor = y_test_tensor.to(device)\n",
    "    \n",
    "    # 予測値を計算\n",
    "    y_pred = net(X_test_tensor)\n",
    "    \n",
    "    # 交差エントロピー誤差関数を計算\n",
    "    test_loss = loss_func(y_pred, y_test_tensor)\n",
    "    \n",
    "    # 誤差をトラッキング\n",
    "    test_loss_track.append(test_loss)"
   ]
  },
  {
   "cell_type": "code",
   "execution_count": null,
   "metadata": {},
   "outputs": [],
   "source": [
    "plt.plot(train_loss_track)"
   ]
  },
  {
   "cell_type": "code",
   "execution_count": null,
   "metadata": {},
   "outputs": [],
   "source": [
    "plt.plot(test_loss_track)"
   ]
  },
  {
   "cell_type": "code",
   "execution_count": null,
   "metadata": {},
   "outputs": [],
   "source": [
    "# accuracyの計算\n",
    "true = 0\n",
    "total = 0\n",
    "\n",
    "all_labels = np.array([])\n",
    "all_preds = np.array([])\n",
    "\n",
    "with torch.no_grad():\n",
    "    for test_xx, test_yy in test_loader:\n",
    "        \n",
    "        # device = \"cuda\"の場合、GPUにデータを転送する\n",
    "        test_xx = test_xx.to(device)\n",
    "        test_yy = test_yy.to(device)\n",
    "\n",
    "        outputs = net(test_xx)\n",
    "        _, predicted = torch.max(outputs.data, 1)\n",
    "        \n",
    "        all_labels = np.append(all_labels, test_yy.cpu().data.numpy())\n",
    "        all_preds = np.append(all_preds, predicted.cpu().numpy())\n",
    "        \n",
    "        total += test_yy.size(0)\n",
    "        true += (predicted == test_yy).sum().item()\n",
    "print('Accuracy: {:.2f} %'.format(100 * float(true/total)))"
   ]
  },
  {
   "cell_type": "markdown",
   "metadata": {
    "colab_type": "text",
    "id": "0dMDZvfJViVQ"
   },
   "source": [
    "## 練習2：新しいネットワークを書いてみましょう\n",
    "---\n",
    "nn.Moduleを継承した書き方で、スライドに記載のネットワークを書いてみましょう。"
   ]
  },
  {
   "cell_type": "code",
   "execution_count": null,
   "metadata": {},
   "outputs": [],
   "source": [
    "class myMLP(nn.Module):\n",
    "    def __init__(self, in_features, out_features):\n",
    "        super().__init__()\n",
    "        self.ln1 = nn.Linear(in_features, 32)\n",
    "        self.ln2 = nn.Linear(32, 20)\n",
    "        self.ln3 = nn.Linear(20, 15)\n",
    "        self.ln4 = nn.Linear(15, out_features)\n",
    "        \n",
    "    def forward(self, x):\n",
    "        x = self.ln1(x)\n",
    "        x = F.relu(x)\n",
    "        x = self.ln2(x)\n",
    "        x = F.relu(x)\n",
    "        x = self.ln3(x)\n",
    "        x = F.relu(x)\n",
    "        x = self.ln4(x)\n",
    "        return x"
   ]
  },
  {
   "cell_type": "code",
   "execution_count": null,
   "metadata": {},
   "outputs": [],
   "source": [
    "net = myMLP(64, 10)"
   ]
  },
  {
   "cell_type": "code",
   "execution_count": null,
   "metadata": {},
   "outputs": [],
   "source": [
    "optimizer = optim.Adam(net.parameters())"
   ]
  },
  {
   "cell_type": "code",
   "execution_count": null,
   "metadata": {},
   "outputs": [],
   "source": [
    "net = net.to(device)\n",
    "\n",
    "train_loss_track = []\n",
    "test_loss_track = []\n",
    "\n",
    "for epoc in range(100):\n",
    "    running_loss = 0\n",
    "    \n",
    "    # 学習モード\n",
    "    net.train()\n",
    "    for step, (xx, yy)  in enumerate(train_loader):\n",
    "        \n",
    "        # device = \"cuda\"の場合、GPUにデータを転送する\n",
    "        xx = xx.to(device)\n",
    "        yy = yy.to(device)\n",
    "        \n",
    "        # 最後に計算した各パラメーターの勾配を初期化する\n",
    "        optimizer.zero_grad()\n",
    "        \n",
    "        # フォワード計算を行う\n",
    "        y_pred = net(xx)\n",
    "        \n",
    "        # 誤差関数を使ってギャップの計測\n",
    "        loss = loss_func(y_pred, yy)\n",
    "        \n",
    "        # 誤差逆伝播法を使って自動微分\n",
    "        loss.backward()\n",
    "        \n",
    "        # パラメーターを更新\n",
    "        optimizer.step()\n",
    "        \n",
    "        # 学習データを使って損失を計算\n",
    "        running_loss += loss.item()\n",
    "        \n",
    "    # エポックが終了したら平均損失を計算\n",
    "    train_loss_track.append(running_loss/step)\n",
    "    \n",
    "    \n",
    "    #評価（evaluation）モード\n",
    "    net.eval()\n",
    "    \n",
    "    # device = \"cuda\"であれば評価用データをGPUに転送する\n",
    "    X_test_tensor = X_test_tensor.to(device)\n",
    "    y_test_tensor = y_test_tensor.to(device)\n",
    "    \n",
    "    # 予測値を計算\n",
    "    y_pred = net(X_test_tensor)\n",
    "    \n",
    "    # 交差エントロピー誤差関数を計算\n",
    "    test_loss = loss_func(y_pred, y_test_tensor)\n",
    "    \n",
    "    # 誤差をトラッキング\n",
    "    test_loss_track.append(test_loss)"
   ]
  },
  {
   "cell_type": "code",
   "execution_count": null,
   "metadata": {},
   "outputs": [],
   "source": [
    "plt.plot(train_loss_track)"
   ]
  },
  {
   "cell_type": "code",
   "execution_count": null,
   "metadata": {},
   "outputs": [],
   "source": [
    "plt.plot(test_loss_track)"
   ]
  },
  {
   "cell_type": "code",
   "execution_count": null,
   "metadata": {},
   "outputs": [],
   "source": [
    "# accuracyの計算\n",
    "true = 0\n",
    "total = 0\n",
    "\n",
    "all_labels = np.array([])\n",
    "all_preds = np.array([])\n",
    "\n",
    "with torch.no_grad():\n",
    "    for test_xx, test_yy in test_loader:\n",
    "        \n",
    "        # device = \"cuda\"の場合、GPUにデータを転送する\n",
    "        test_xx = test_xx.to(device)\n",
    "        test_yy = test_yy.to(device)\n",
    "\n",
    "        outputs = net(test_xx)\n",
    "        _, predicted = torch.max(outputs.data, 1)\n",
    "        \n",
    "        all_labels = np.append(all_labels, test_yy.cpu().data.numpy())\n",
    "        all_preds = np.append(all_preds, predicted.cpu().numpy())\n",
    "        \n",
    "        total += test_yy.size(0)\n",
    "        true += (predicted == test_yy).sum().item()\n",
    "print('Accuracy: {:.2f} %'.format(100 * float(true/total)))"
   ]
  },
  {
   "cell_type": "markdown",
   "metadata": {
    "colab_type": "text",
    "id": "OTIIYpqOcTrV"
   },
   "source": [
    "## 練習3：MNISTをやってみよう\n",
    "---\n",
    "Day1_pytorch_MNIST.ipynbを開けてください。<br>\n",
    "※データを読み込む部分までは書いてありますので、残りの部分をコーディングしてください。"
   ]
  },
  {
   "cell_type": "code",
   "execution_count": null,
   "metadata": {
    "colab": {},
    "colab_type": "code",
    "id": "IWdRDgphEAfX"
   },
   "outputs": [],
   "source": []
  }
 ],
 "metadata": {
  "accelerator": "GPU",
  "colab": {
   "collapsed_sections": [],
   "name": "Day1_pytorch_practical.ipynb",
   "provenance": [],
   "version": "0.3.2"
  },
  "kernelspec": {
   "display_name": "Python 3",
   "language": "python",
   "name": "python3"
  },
  "language_info": {
   "codemirror_mode": {
    "name": "ipython",
    "version": 3
   },
   "file_extension": ".py",
   "mimetype": "text/x-python",
   "name": "python",
   "nbconvert_exporter": "python",
   "pygments_lexer": "ipython3",
   "version": "3.6.5"
  }
 },
 "nbformat": 4,
 "nbformat_minor": 1
}
